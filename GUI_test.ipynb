{
 "cells": [
  {
   "cell_type": "markdown",
   "metadata": {},
   "source": [
    "# GUI test"
   ]
  },
  {
   "cell_type": "code",
   "execution_count": 3,
   "metadata": {},
   "outputs": [],
   "source": [
    "import numpy as np\n",
    "from numpy import random as rnd\n",
    "from matplotlib import pyplot as plt\n",
    "import pandas as pd"
   ]
  },
  {
   "cell_type": "code",
   "execution_count": 4,
   "metadata": {},
   "outputs": [],
   "source": [
    "import tkinter as tk\n",
    "from tkinter.ttk import *"
   ]
  },
  {
   "cell_type": "markdown",
   "metadata": {},
   "source": [
    "## Creation of toy data\n",
    "Embeddings and weight matrices. Replace this section with real data when real simulations finish."
   ]
  },
  {
   "cell_type": "code",
   "execution_count": 5,
   "metadata": {},
   "outputs": [],
   "source": [
    "n_drugs = 20 # Number of drugs\n",
    "n_se = 20 # Number of polypharmacy side effects\n",
    "dim = 32 # Dimension of embeddings"
   ]
  },
  {
   "cell_type": "code",
   "execution_count": 6,
   "metadata": {},
   "outputs": [
    {
     "data": {
      "text/html": [
       "<div>\n",
       "<style scoped>\n",
       "    .dataframe tbody tr th:only-of-type {\n",
       "        vertical-align: middle;\n",
       "    }\n",
       "\n",
       "    .dataframe tbody tr th {\n",
       "        vertical-align: top;\n",
       "    }\n",
       "\n",
       "    .dataframe thead th {\n",
       "        text-align: right;\n",
       "    }\n",
       "</style>\n",
       "<table border=\"1\" class=\"dataframe\">\n",
       "  <thead>\n",
       "    <tr style=\"text-align: right;\">\n",
       "      <th></th>\n",
       "      <th>Side Effect</th>\n",
       "      <th>Side Effect Name</th>\n",
       "    </tr>\n",
       "  </thead>\n",
       "  <tbody>\n",
       "    <tr>\n",
       "      <th>401</th>\n",
       "      <td>C0027947</td>\n",
       "      <td>Neutropenia</td>\n",
       "    </tr>\n",
       "    <tr>\n",
       "      <th>29</th>\n",
       "      <td>C0476089</td>\n",
       "      <td>Endometrial cancer</td>\n",
       "    </tr>\n",
       "    <tr>\n",
       "      <th>380</th>\n",
       "      <td>C0699791</td>\n",
       "      <td>Gastric Cancer</td>\n",
       "    </tr>\n",
       "    <tr>\n",
       "      <th>21</th>\n",
       "      <td>C0038019</td>\n",
       "      <td>spondylosis</td>\n",
       "    </tr>\n",
       "    <tr>\n",
       "      <th>468</th>\n",
       "      <td>C0020456</td>\n",
       "      <td>hyperglycaemia</td>\n",
       "    </tr>\n",
       "    <tr>\n",
       "      <th>422</th>\n",
       "      <td>C0003869</td>\n",
       "      <td>Arthritis infective</td>\n",
       "    </tr>\n",
       "    <tr>\n",
       "      <th>418</th>\n",
       "      <td>C1442903</td>\n",
       "      <td>bone spur</td>\n",
       "    </tr>\n",
       "    <tr>\n",
       "      <th>265</th>\n",
       "      <td>C0006118</td>\n",
       "      <td>brain neoplasm</td>\n",
       "    </tr>\n",
       "    <tr>\n",
       "      <th>541</th>\n",
       "      <td>C0152025</td>\n",
       "      <td>polyneuropathy</td>\n",
       "    </tr>\n",
       "    <tr>\n",
       "      <th>386</th>\n",
       "      <td>C0023467</td>\n",
       "      <td>Acute myeloblastic leukemia</td>\n",
       "    </tr>\n",
       "    <tr>\n",
       "      <th>76</th>\n",
       "      <td>C0031538</td>\n",
       "      <td>phimosis</td>\n",
       "    </tr>\n",
       "    <tr>\n",
       "      <th>53</th>\n",
       "      <td>C0034494</td>\n",
       "      <td>rabies</td>\n",
       "    </tr>\n",
       "    <tr>\n",
       "      <th>204</th>\n",
       "      <td>C0031111</td>\n",
       "      <td>periostitis</td>\n",
       "    </tr>\n",
       "    <tr>\n",
       "      <th>144</th>\n",
       "      <td>C0702166</td>\n",
       "      <td>Acne</td>\n",
       "    </tr>\n",
       "    <tr>\n",
       "      <th>86</th>\n",
       "      <td>C0007570</td>\n",
       "      <td>coeliac disease</td>\n",
       "    </tr>\n",
       "    <tr>\n",
       "      <th>277</th>\n",
       "      <td>C0700594</td>\n",
       "      <td>radiculopathy</td>\n",
       "    </tr>\n",
       "    <tr>\n",
       "      <th>524</th>\n",
       "      <td>C0026265</td>\n",
       "      <td>mitral valve disease NOS</td>\n",
       "    </tr>\n",
       "    <tr>\n",
       "      <th>483</th>\n",
       "      <td>C0034063</td>\n",
       "      <td>lung edema</td>\n",
       "    </tr>\n",
       "    <tr>\n",
       "      <th>486</th>\n",
       "      <td>C0036337</td>\n",
       "      <td>schizoaffective disorder</td>\n",
       "    </tr>\n",
       "    <tr>\n",
       "      <th>187</th>\n",
       "      <td>C0029442</td>\n",
       "      <td>osteomalacia</td>\n",
       "    </tr>\n",
       "  </tbody>\n",
       "</table>\n",
       "</div>"
      ],
      "text/plain": [
       "    Side Effect             Side Effect Name\n",
       "401    C0027947                  Neutropenia\n",
       "29     C0476089           Endometrial cancer\n",
       "380    C0699791               Gastric Cancer\n",
       "21     C0038019                  spondylosis\n",
       "468    C0020456               hyperglycaemia\n",
       "422    C0003869          Arthritis infective\n",
       "418    C1442903                    bone spur\n",
       "265    C0006118               brain neoplasm\n",
       "541    C0152025               polyneuropathy\n",
       "386    C0023467  Acute myeloblastic leukemia\n",
       "76     C0031538                     phimosis\n",
       "53     C0034494                       rabies\n",
       "204    C0031111                  periostitis\n",
       "144    C0702166                         Acne\n",
       "86     C0007570              coeliac disease\n",
       "277    C0700594                radiculopathy\n",
       "524    C0026265     mitral valve disease NOS\n",
       "483    C0034063                   lung edema\n",
       "486    C0036337     schizoaffective disorder\n",
       "187    C0029442                 osteomalacia"
      ]
     },
     "execution_count": 6,
     "metadata": {},
     "output_type": "execute_result"
    }
   ],
   "source": [
    "side_eff = pd.read_csv('../../Thesis_datasets/Decagon/bio-decagon-effectcategories.csv',\\\n",
    "                 usecols=[0,1],index_col=False)\n",
    "side_eff = side_eff.sample(n_se)\n",
    "side_eff"
   ]
  },
  {
   "cell_type": "code",
   "execution_count": 7,
   "metadata": {},
   "outputs": [
    {
     "data": {
      "text/plain": [
       "{'Neutropenia': 0,\n",
       " 'Endometrial cancer': 1,\n",
       " 'Gastric Cancer': 2,\n",
       " 'spondylosis': 3,\n",
       " 'hyperglycaemia': 4,\n",
       " 'Arthritis infective': 5,\n",
       " 'bone spur': 6,\n",
       " 'brain neoplasm': 7,\n",
       " 'polyneuropathy': 8,\n",
       " 'Acute myeloblastic leukemia': 9,\n",
       " 'phimosis': 10,\n",
       " 'rabies': 11,\n",
       " 'periostitis': 12,\n",
       " 'Acne': 13,\n",
       " 'coeliac disease': 14,\n",
       " 'radiculopathy': 15,\n",
       " 'mitral valve disease NOS': 16,\n",
       " 'lung edema': 17,\n",
       " 'schizoaffective disorder': 18,\n",
       " 'osteomalacia': 19}"
      ]
     },
     "execution_count": 7,
     "metadata": {},
     "output_type": "execute_result"
    }
   ],
   "source": [
    "se_name2code = {side_eff.iloc[i,1]:side_eff.iloc[i,0] for i in range(n_se)}\n",
    "se2idx = {se:i for i,se in enumerate(side_eff['Side Effect Name'].values)}\n",
    "se2idx"
   ]
  },
  {
   "cell_type": "code",
   "execution_count": 53,
   "metadata": {},
   "outputs": [
    {
     "data": {
      "text/plain": [
       "{0: 'Neutropenia',\n",
       " 1: 'Endometrial cancer',\n",
       " 2: 'Gastric Cancer',\n",
       " 3: 'spondylosis',\n",
       " 4: 'hyperglycaemia',\n",
       " 5: 'Arthritis infective',\n",
       " 6: 'bone spur',\n",
       " 7: 'brain neoplasm',\n",
       " 8: 'polyneuropathy',\n",
       " 9: 'Acute myeloblastic leukemia',\n",
       " 10: 'phimosis',\n",
       " 11: 'rabies',\n",
       " 12: 'periostitis',\n",
       " 13: 'Acne',\n",
       " 14: 'coeliac disease',\n",
       " 15: 'radiculopathy',\n",
       " 16: 'mitral valve disease NOS',\n",
       " 17: 'lung edema',\n",
       " 18: 'schizoaffective disorder',\n",
       " 19: 'osteomalacia'}"
      ]
     },
     "execution_count": 53,
     "metadata": {},
     "output_type": "execute_result"
    }
   ],
   "source": [
    "idx2se = {i:se for i,se in enumerate(side_eff['Side Effect Name'].values)}\n",
    "idx2se"
   ]
  },
  {
   "cell_type": "code",
   "execution_count": 38,
   "metadata": {},
   "outputs": [],
   "source": [
    "emb = rnd.rand(n_drugs,dim) # Embedding matrix\n",
    "R = np.abs(rnd.normal(loc=0,scale=0.25,size=(dim,dim))) # Global trainable parameter R\n",
    "D_list = [] # Side effect specific trainable matrices D_r\n",
    "for d in range(n_se):\n",
    "    D_list.append(np.diag(rnd.normal(loc=0,scale=0.25,size=(dim))))"
   ]
  },
  {
   "cell_type": "code",
   "execution_count": 39,
   "metadata": {},
   "outputs": [
    {
     "data": {
      "text/plain": [
       "[array([[-0.09298245,  0.        ,  0.        , ...,  0.        ,\n",
       "          0.        ,  0.        ],\n",
       "        [ 0.        , -0.16613266,  0.        , ...,  0.        ,\n",
       "          0.        ,  0.        ],\n",
       "        [ 0.        ,  0.        , -0.17572981, ...,  0.        ,\n",
       "          0.        ,  0.        ],\n",
       "        ...,\n",
       "        [ 0.        ,  0.        ,  0.        , ..., -0.13226851,\n",
       "          0.        ,  0.        ],\n",
       "        [ 0.        ,  0.        ,  0.        , ...,  0.        ,\n",
       "          0.14379033,  0.        ],\n",
       "        [ 0.        ,  0.        ,  0.        , ...,  0.        ,\n",
       "          0.        , -0.12793918]]),\n",
       " array([[-0.15897117,  0.        ,  0.        , ...,  0.        ,\n",
       "          0.        ,  0.        ],\n",
       "        [ 0.        ,  0.38914395,  0.        , ...,  0.        ,\n",
       "          0.        ,  0.        ],\n",
       "        [ 0.        ,  0.        , -0.10612638, ...,  0.        ,\n",
       "          0.        ,  0.        ],\n",
       "        ...,\n",
       "        [ 0.        ,  0.        ,  0.        , ...,  0.15567147,\n",
       "          0.        ,  0.        ],\n",
       "        [ 0.        ,  0.        ,  0.        , ...,  0.        ,\n",
       "         -0.26171247,  0.        ],\n",
       "        [ 0.        ,  0.        ,  0.        , ...,  0.        ,\n",
       "          0.        , -0.26149263]]),\n",
       " array([[-0.21044249,  0.        ,  0.        , ...,  0.        ,\n",
       "          0.        ,  0.        ],\n",
       "        [ 0.        ,  0.01193664,  0.        , ...,  0.        ,\n",
       "          0.        ,  0.        ],\n",
       "        [ 0.        ,  0.        ,  0.54847388, ...,  0.        ,\n",
       "          0.        ,  0.        ],\n",
       "        ...,\n",
       "        [ 0.        ,  0.        ,  0.        , ...,  0.13602033,\n",
       "          0.        ,  0.        ],\n",
       "        [ 0.        ,  0.        ,  0.        , ...,  0.        ,\n",
       "         -0.23735582,  0.        ],\n",
       "        [ 0.        ,  0.        ,  0.        , ...,  0.        ,\n",
       "          0.        ,  0.04391709]]),\n",
       " array([[ 0.1036881 ,  0.        ,  0.        , ...,  0.        ,\n",
       "          0.        ,  0.        ],\n",
       "        [ 0.        ,  0.19202673,  0.        , ...,  0.        ,\n",
       "          0.        ,  0.        ],\n",
       "        [ 0.        ,  0.        ,  0.01707859, ...,  0.        ,\n",
       "          0.        ,  0.        ],\n",
       "        ...,\n",
       "        [ 0.        ,  0.        ,  0.        , ..., -0.36404047,\n",
       "          0.        ,  0.        ],\n",
       "        [ 0.        ,  0.        ,  0.        , ...,  0.        ,\n",
       "          0.3173318 ,  0.        ],\n",
       "        [ 0.        ,  0.        ,  0.        , ...,  0.        ,\n",
       "          0.        ,  0.00516216]]),\n",
       " array([[ 0.41111381,  0.        ,  0.        , ...,  0.        ,\n",
       "          0.        ,  0.        ],\n",
       "        [ 0.        , -0.40427517,  0.        , ...,  0.        ,\n",
       "          0.        ,  0.        ],\n",
       "        [ 0.        ,  0.        ,  0.22743104, ...,  0.        ,\n",
       "          0.        ,  0.        ],\n",
       "        ...,\n",
       "        [ 0.        ,  0.        ,  0.        , ...,  0.12442801,\n",
       "          0.        ,  0.        ],\n",
       "        [ 0.        ,  0.        ,  0.        , ...,  0.        ,\n",
       "          0.06432098,  0.        ],\n",
       "        [ 0.        ,  0.        ,  0.        , ...,  0.        ,\n",
       "          0.        , -0.27382404]]),\n",
       " array([[-0.24262674,  0.        ,  0.        , ...,  0.        ,\n",
       "          0.        ,  0.        ],\n",
       "        [ 0.        ,  0.39449185,  0.        , ...,  0.        ,\n",
       "          0.        ,  0.        ],\n",
       "        [ 0.        ,  0.        ,  0.0335629 , ...,  0.        ,\n",
       "          0.        ,  0.        ],\n",
       "        ...,\n",
       "        [ 0.        ,  0.        ,  0.        , ...,  0.12243546,\n",
       "          0.        ,  0.        ],\n",
       "        [ 0.        ,  0.        ,  0.        , ...,  0.        ,\n",
       "         -0.07454931,  0.        ],\n",
       "        [ 0.        ,  0.        ,  0.        , ...,  0.        ,\n",
       "          0.        , -0.22433882]]),\n",
       " array([[ 0.63493847,  0.        ,  0.        , ...,  0.        ,\n",
       "          0.        ,  0.        ],\n",
       "        [ 0.        ,  0.37138094,  0.        , ...,  0.        ,\n",
       "          0.        ,  0.        ],\n",
       "        [ 0.        ,  0.        ,  0.10497298, ...,  0.        ,\n",
       "          0.        ,  0.        ],\n",
       "        ...,\n",
       "        [ 0.        ,  0.        ,  0.        , ...,  0.40643944,\n",
       "          0.        ,  0.        ],\n",
       "        [ 0.        ,  0.        ,  0.        , ...,  0.        ,\n",
       "          0.26419265,  0.        ],\n",
       "        [ 0.        ,  0.        ,  0.        , ...,  0.        ,\n",
       "          0.        , -0.32027827]]),\n",
       " array([[-0.28256514,  0.        ,  0.        , ...,  0.        ,\n",
       "          0.        ,  0.        ],\n",
       "        [ 0.        , -0.52584051,  0.        , ...,  0.        ,\n",
       "          0.        ,  0.        ],\n",
       "        [ 0.        ,  0.        , -0.16765035, ...,  0.        ,\n",
       "          0.        ,  0.        ],\n",
       "        ...,\n",
       "        [ 0.        ,  0.        ,  0.        , ..., -0.08612663,\n",
       "          0.        ,  0.        ],\n",
       "        [ 0.        ,  0.        ,  0.        , ...,  0.        ,\n",
       "          0.17313281,  0.        ],\n",
       "        [ 0.        ,  0.        ,  0.        , ...,  0.        ,\n",
       "          0.        , -0.02846275]]),\n",
       " array([[ 0.32564551,  0.        ,  0.        , ...,  0.        ,\n",
       "          0.        ,  0.        ],\n",
       "        [ 0.        , -0.22646855,  0.        , ...,  0.        ,\n",
       "          0.        ,  0.        ],\n",
       "        [ 0.        ,  0.        ,  0.02280093, ...,  0.        ,\n",
       "          0.        ,  0.        ],\n",
       "        ...,\n",
       "        [ 0.        ,  0.        ,  0.        , ..., -0.40284795,\n",
       "          0.        ,  0.        ],\n",
       "        [ 0.        ,  0.        ,  0.        , ...,  0.        ,\n",
       "         -0.01217627,  0.        ],\n",
       "        [ 0.        ,  0.        ,  0.        , ...,  0.        ,\n",
       "          0.        , -0.29058841]]),\n",
       " array([[ 0.0997731 ,  0.        ,  0.        , ...,  0.        ,\n",
       "          0.        ,  0.        ],\n",
       "        [ 0.        , -0.2884836 ,  0.        , ...,  0.        ,\n",
       "          0.        ,  0.        ],\n",
       "        [ 0.        ,  0.        , -0.31915712, ...,  0.        ,\n",
       "          0.        ,  0.        ],\n",
       "        ...,\n",
       "        [ 0.        ,  0.        ,  0.        , ...,  0.05805436,\n",
       "          0.        ,  0.        ],\n",
       "        [ 0.        ,  0.        ,  0.        , ...,  0.        ,\n",
       "         -0.08586098,  0.        ],\n",
       "        [ 0.        ,  0.        ,  0.        , ...,  0.        ,\n",
       "          0.        ,  0.08602206]]),\n",
       " array([[ 0.14181696,  0.        ,  0.        , ...,  0.        ,\n",
       "          0.        ,  0.        ],\n",
       "        [ 0.        , -0.08998706,  0.        , ...,  0.        ,\n",
       "          0.        ,  0.        ],\n",
       "        [ 0.        ,  0.        ,  0.11848176, ...,  0.        ,\n",
       "          0.        ,  0.        ],\n",
       "        ...,\n",
       "        [ 0.        ,  0.        ,  0.        , ...,  0.06837265,\n",
       "          0.        ,  0.        ],\n",
       "        [ 0.        ,  0.        ,  0.        , ...,  0.        ,\n",
       "          0.52945551,  0.        ],\n",
       "        [ 0.        ,  0.        ,  0.        , ...,  0.        ,\n",
       "          0.        ,  0.63770702]]),\n",
       " array([[-0.09126056,  0.        ,  0.        , ...,  0.        ,\n",
       "          0.        ,  0.        ],\n",
       "        [ 0.        , -0.12517174,  0.        , ...,  0.        ,\n",
       "          0.        ,  0.        ],\n",
       "        [ 0.        ,  0.        , -0.11045772, ...,  0.        ,\n",
       "          0.        ,  0.        ],\n",
       "        ...,\n",
       "        [ 0.        ,  0.        ,  0.        , ..., -0.07050298,\n",
       "          0.        ,  0.        ],\n",
       "        [ 0.        ,  0.        ,  0.        , ...,  0.        ,\n",
       "          0.06891154,  0.        ],\n",
       "        [ 0.        ,  0.        ,  0.        , ...,  0.        ,\n",
       "          0.        , -0.36831951]]),\n",
       " array([[-0.05693643,  0.        ,  0.        , ...,  0.        ,\n",
       "          0.        ,  0.        ],\n",
       "        [ 0.        , -0.30687588,  0.        , ...,  0.        ,\n",
       "          0.        ,  0.        ],\n",
       "        [ 0.        ,  0.        , -0.02400418, ...,  0.        ,\n",
       "          0.        ,  0.        ],\n",
       "        ...,\n",
       "        [ 0.        ,  0.        ,  0.        , ...,  0.52904516,\n",
       "          0.        ,  0.        ],\n",
       "        [ 0.        ,  0.        ,  0.        , ...,  0.        ,\n",
       "          0.29324361,  0.        ],\n",
       "        [ 0.        ,  0.        ,  0.        , ...,  0.        ,\n",
       "          0.        , -0.13216225]]),\n",
       " array([[ 0.23370237,  0.        ,  0.        , ...,  0.        ,\n",
       "          0.        ,  0.        ],\n",
       "        [ 0.        ,  0.04385685,  0.        , ...,  0.        ,\n",
       "          0.        ,  0.        ],\n",
       "        [ 0.        ,  0.        , -0.50340163, ...,  0.        ,\n",
       "          0.        ,  0.        ],\n",
       "        ...,\n",
       "        [ 0.        ,  0.        ,  0.        , ...,  0.12341524,\n",
       "          0.        ,  0.        ],\n",
       "        [ 0.        ,  0.        ,  0.        , ...,  0.        ,\n",
       "          0.0293809 ,  0.        ],\n",
       "        [ 0.        ,  0.        ,  0.        , ...,  0.        ,\n",
       "          0.        ,  0.28595335]]),\n",
       " array([[-0.15411651,  0.        ,  0.        , ...,  0.        ,\n",
       "          0.        ,  0.        ],\n",
       "        [ 0.        , -0.0773341 ,  0.        , ...,  0.        ,\n",
       "          0.        ,  0.        ],\n",
       "        [ 0.        ,  0.        , -0.31521396, ...,  0.        ,\n",
       "          0.        ,  0.        ],\n",
       "        ...,\n",
       "        [ 0.        ,  0.        ,  0.        , ...,  0.28217183,\n",
       "          0.        ,  0.        ],\n",
       "        [ 0.        ,  0.        ,  0.        , ...,  0.        ,\n",
       "          0.06709018,  0.        ],\n",
       "        [ 0.        ,  0.        ,  0.        , ...,  0.        ,\n",
       "          0.        ,  0.16183114]]),\n",
       " array([[ 0.22323896,  0.        ,  0.        , ...,  0.        ,\n",
       "          0.        ,  0.        ],\n",
       "        [ 0.        , -0.41320131,  0.        , ...,  0.        ,\n",
       "          0.        ,  0.        ],\n",
       "        [ 0.        ,  0.        , -0.40646112, ...,  0.        ,\n",
       "          0.        ,  0.        ],\n",
       "        ...,\n",
       "        [ 0.        ,  0.        ,  0.        , ...,  0.02866573,\n",
       "          0.        ,  0.        ],\n",
       "        [ 0.        ,  0.        ,  0.        , ...,  0.        ,\n",
       "         -0.29563677,  0.        ],\n",
       "        [ 0.        ,  0.        ,  0.        , ...,  0.        ,\n",
       "          0.        ,  0.41848249]]),\n",
       " array([[ 0.06010516,  0.        ,  0.        , ...,  0.        ,\n",
       "          0.        ,  0.        ],\n",
       "        [ 0.        ,  0.10393477,  0.        , ...,  0.        ,\n",
       "          0.        ,  0.        ],\n",
       "        [ 0.        ,  0.        , -0.48088874, ...,  0.        ,\n",
       "          0.        ,  0.        ],\n",
       "        ...,\n",
       "        [ 0.        ,  0.        ,  0.        , ..., -0.01674669,\n",
       "          0.        ,  0.        ],\n",
       "        [ 0.        ,  0.        ,  0.        , ...,  0.        ,\n",
       "         -0.18625206,  0.        ],\n",
       "        [ 0.        ,  0.        ,  0.        , ...,  0.        ,\n",
       "          0.        , -0.06160037]]),\n",
       " array([[ 0.36774715,  0.        ,  0.        , ...,  0.        ,\n",
       "          0.        ,  0.        ],\n",
       "        [ 0.        , -0.38518193,  0.        , ...,  0.        ,\n",
       "          0.        ,  0.        ],\n",
       "        [ 0.        ,  0.        ,  0.12049976, ...,  0.        ,\n",
       "          0.        ,  0.        ],\n",
       "        ...,\n",
       "        [ 0.        ,  0.        ,  0.        , ..., -0.25823383,\n",
       "          0.        ,  0.        ],\n",
       "        [ 0.        ,  0.        ,  0.        , ...,  0.        ,\n",
       "          0.0301915 ,  0.        ],\n",
       "        [ 0.        ,  0.        ,  0.        , ...,  0.        ,\n",
       "          0.        ,  0.2152634 ]]),\n",
       " array([[-0.07931123,  0.        ,  0.        , ...,  0.        ,\n",
       "          0.        ,  0.        ],\n",
       "        [ 0.        ,  0.17258225,  0.        , ...,  0.        ,\n",
       "          0.        ,  0.        ],\n",
       "        [ 0.        ,  0.        ,  0.21416359, ...,  0.        ,\n",
       "          0.        ,  0.        ],\n",
       "        ...,\n",
       "        [ 0.        ,  0.        ,  0.        , ..., -0.11552551,\n",
       "          0.        ,  0.        ],\n",
       "        [ 0.        ,  0.        ,  0.        , ...,  0.        ,\n",
       "         -0.02602515,  0.        ],\n",
       "        [ 0.        ,  0.        ,  0.        , ...,  0.        ,\n",
       "          0.        ,  0.00348365]]),\n",
       " array([[-0.06910191,  0.        ,  0.        , ...,  0.        ,\n",
       "          0.        ,  0.        ],\n",
       "        [ 0.        ,  0.03510605,  0.        , ...,  0.        ,\n",
       "          0.        ,  0.        ],\n",
       "        [ 0.        ,  0.        , -0.38614794, ...,  0.        ,\n",
       "          0.        ,  0.        ],\n",
       "        ...,\n",
       "        [ 0.        ,  0.        ,  0.        , ..., -0.11897288,\n",
       "          0.        ,  0.        ],\n",
       "        [ 0.        ,  0.        ,  0.        , ...,  0.        ,\n",
       "          0.10203298,  0.        ],\n",
       "        [ 0.        ,  0.        ,  0.        , ...,  0.        ,\n",
       "          0.        ,  0.01857889]])]"
      ]
     },
     "execution_count": 39,
     "metadata": {},
     "output_type": "execute_result"
    }
   ],
   "source": [
    "D_list"
   ]
  },
  {
   "cell_type": "code",
   "execution_count": 9,
   "metadata": {},
   "outputs": [
    {
     "data": {
      "text/plain": [
       "array(['CID000001071', 'CID001349907', 'CID000004893', 'CID000004425',\n",
       "       'CID000001986', 'CID000003639', 'CID000003826', 'CID000060754',\n",
       "       'CID000074989', 'CID000072054', 'CID000060852', 'CID000002676',\n",
       "       'CID000004730', 'CID000002435', 'CID000004675', 'CID000003454',\n",
       "       'CID000004168', 'CID000002578', 'CID000005466', 'CID000004691'],\n",
       "      dtype=object)"
      ]
     },
     "execution_count": 9,
     "metadata": {},
     "output_type": "execute_result"
    }
   ],
   "source": [
    "drugs = pd.read_csv('../../Thesis_datasets/Decagon/bio-decagon-combo.csv',usecols=[0])\n",
    "drugs = drugs['STITCH 1'].unique()\n",
    "drugs = rnd.choice(drugs,size=n_drugs)\n",
    "drugs"
   ]
  },
  {
   "cell_type": "code",
   "execution_count": 10,
   "metadata": {},
   "outputs": [
    {
     "data": {
      "text/plain": [
       "{'CID000001071': 0,\n",
       " 'CID001349907': 1,\n",
       " 'CID000004893': 2,\n",
       " 'CID000004425': 3,\n",
       " 'CID000001986': 4,\n",
       " 'CID000003639': 5,\n",
       " 'CID000003826': 6,\n",
       " 'CID000060754': 7,\n",
       " 'CID000074989': 8,\n",
       " 'CID000072054': 9,\n",
       " 'CID000060852': 10,\n",
       " 'CID000002676': 11,\n",
       " 'CID000004730': 12,\n",
       " 'CID000002435': 13,\n",
       " 'CID000004675': 14,\n",
       " 'CID000003454': 15,\n",
       " 'CID000004168': 16,\n",
       " 'CID000002578': 17,\n",
       " 'CID000005466': 18,\n",
       " 'CID000004691': 19}"
      ]
     },
     "execution_count": 10,
     "metadata": {},
     "output_type": "execute_result"
    }
   ],
   "source": [
    "# Probably not neessary\n",
    "drug2idx = {d: i for i, d in enumerate(drugs)}\n",
    "drug2idx"
   ]
  },
  {
   "cell_type": "code",
   "execution_count": 11,
   "metadata": {},
   "outputs": [],
   "source": [
    "DATA = pd.DataFrame(drug2idx.keys())\n",
    "DATA.to_csv('d_codes.csv',index=False)"
   ]
  },
  {
   "cell_type": "markdown",
   "metadata": {},
   "source": [
    "### Intermediate step:\n",
    "To retrieve the drug names, the exported files with the STITCH codes is uploaded to the STITCH webpage and an HTML with the translation is downloaded and cleaned using bash. A textfile with the names is imported and cleaned in the following steps:"
   ]
  },
  {
   "cell_type": "code",
   "execution_count": 12,
   "metadata": {},
   "outputs": [
    {
     "data": {
      "text/plain": [
       "array(['2-fluoroadenosine', 'epinephrine solution', 'chlordiazepoxide',\n",
       "       'desmopressin', 'phentermine', 'omeprazole', '5-fluorouracil',\n",
       "       'AC1L1DSH', 'Dantrolene-13C3', 'morphine-D6', 'ranolazine',\n",
       "       'iopromide', 'doxazosin', 'trimipramine', 'aripiprazole',\n",
       "       'flurbiprofen', 'Eunades', \"2',3'-dideoxyinosine\", 'cromoglicate',\n",
       "       'oxaprozin'], dtype=object)"
      ]
     },
     "execution_count": 12,
     "metadata": {},
     "output_type": "execute_result"
    }
   ],
   "source": [
    "DF = pd.read_csv('d_names.txt',sep=\"'>\",engine='python',header=None,index_col=False,\\\n",
    "                usecols=[2],names=['drug'])\n",
    "d_names = DF['drug'].str.split('<',expand=True)[0].values\n",
    "d_names"
   ]
  },
  {
   "cell_type": "code",
   "execution_count": 13,
   "metadata": {},
   "outputs": [
    {
     "data": {
      "text/plain": [
       "{'2-fluoroadenosine': 0,\n",
       " 'epinephrine solution': 1,\n",
       " 'chlordiazepoxide': 2,\n",
       " 'desmopressin': 3,\n",
       " 'phentermine': 4,\n",
       " 'omeprazole': 5,\n",
       " '5-fluorouracil': 6,\n",
       " 'AC1L1DSH': 7,\n",
       " 'Dantrolene-13C3': 8,\n",
       " 'morphine-D6': 9,\n",
       " 'ranolazine': 10,\n",
       " 'iopromide': 11,\n",
       " 'doxazosin': 12,\n",
       " 'trimipramine': 13,\n",
       " 'aripiprazole': 14,\n",
       " 'flurbiprofen': 15,\n",
       " 'Eunades': 16,\n",
       " \"2',3'-dideoxyinosine\": 17,\n",
       " 'cromoglicate': 18,\n",
       " 'oxaprozin': 19}"
      ]
     },
     "execution_count": 13,
     "metadata": {},
     "output_type": "execute_result"
    }
   ],
   "source": [
    "name2idx = {drug:i for i,drug in enumerate(d_names)}\n",
    "name2idx"
   ]
  },
  {
   "cell_type": "code",
   "execution_count": 14,
   "metadata": {},
   "outputs": [],
   "source": [
    "def sigmoid(x):\n",
    "        return 1. / (1 + np.exp(-x))"
   ]
  },
  {
   "cell_type": "code",
   "execution_count": 54,
   "metadata": {},
   "outputs": [],
   "source": [
    "def calculate_prob(drug1,drug2,n):\n",
    "    \"\"\" Calculate sthe probability of the 'n' most likely side effects of the combination of\n",
    "        'drug1' and 'drug2'\n",
    "    \"\"\"\n",
    "    probs = np.zeros([n_se]) # Initialization of probability vector in zero\n",
    "    idx1 = name2idx[drug1]\n",
    "    idx2 = name2idx[drug2]\n",
    "    # Embedding retrieving\n",
    "    emb1 = emb[idx1,:]\n",
    "    emb2 = emb[idx2,:].transpose()\n",
    "    # Tensor factorization for each side effect\n",
    "    for i in range(n_se):\n",
    "        probs[i] = sigmoid(emb1@D_list[i]@R@D_list[i]@emb2)\n",
    "    inds = probs.argsort()[-n:][::-1]\n",
    "    drug_probs = {idx2se[i]:probs[i] for i in inds}\n",
    "    return drug_probs"
   ]
  },
  {
   "cell_type": "code",
   "execution_count": 55,
   "metadata": {},
   "outputs": [
    {
     "data": {
      "text/plain": [
       "{'bone spur': 0.6053613557907187, 'phimosis': 0.5756076493889599}"
      ]
     },
     "execution_count": 55,
     "metadata": {},
     "output_type": "execute_result"
    }
   ],
   "source": [
    "calculate_prob('phentermine','ranolazine',2)"
   ]
  },
  {
   "cell_type": "code",
   "execution_count": null,
   "metadata": {},
   "outputs": [],
   "source": []
  },
  {
   "cell_type": "code",
   "execution_count": null,
   "metadata": {},
   "outputs": [],
   "source": []
  },
  {
   "cell_type": "code",
   "execution_count": null,
   "metadata": {},
   "outputs": [],
   "source": []
  }
 ],
 "metadata": {
  "kernelspec": {
   "display_name": "Python 3",
   "language": "python",
   "name": "python3"
  },
  "language_info": {
   "codemirror_mode": {
    "name": "ipython",
    "version": 3
   },
   "file_extension": ".py",
   "mimetype": "text/x-python",
   "name": "python",
   "nbconvert_exporter": "python",
   "pygments_lexer": "ipython3",
   "version": "3.7.4"
  }
 },
 "nbformat": 4,
 "nbformat_minor": 4
}
